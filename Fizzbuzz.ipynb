{
 "cells": [
  {
   "cell_type": "code",
   "execution_count": 2,
   "metadata": {
    "collapsed": false
   },
   "outputs": [
    {
     "name": "stdout",
     "output_type": "stream",
     "text": [
      "1 2 fizz 4 buzz fizz 7 8 fizz buzz 11 fizz 13 14 Fizzbuzz\n",
      "16 17 fizz 19 buzz fizz 22 23 fizz buzz 26 fizz 28 29 Fizzbuzz\n",
      "31 32 fizz 34 buzz fizz 37 38 fizz buzz 41 fizz 43 44 Fizzbuzz\n",
      "46 47 fizz 49 buzz fizz 52 53 fizz buzz 56 fizz 58 59 Fizzbuzz\n",
      "61 62 fizz 64 buzz fizz 67 68 fizz buzz 71 fizz 73 74 Fizzbuzz\n",
      "76 77 fizz 79 buzz fizz 82 83 fizz buzz 86 fizz 88 89 Fizzbuzz\n",
      "91 92 fizz 94 buzz fizz 97 98 fizz buzz "
     ]
    }
   ],
   "source": [
    "for x in range(1,101):\n",
    "    if x%3 == 0 and x%5 == 0:\n",
    "        print('Fizzbuzz',)\n",
    "    elif x%3 == 0:\n",
    "        print('fizz', end=' ')\n",
    "    elif x%5 == 0:\n",
    "        print('buzz',end=' ')\n",
    "    else: \n",
    "        print(x, end=' ')"
   ]
  },
  {
   "cell_type": "code",
   "execution_count": 7,
   "metadata": {
    "collapsed": false
   },
   "outputs": [
    {
     "data": {
      "text/plain": [
       "matrix([[ 9, 12],\n",
       "        [ 9, 12]])"
      ]
     },
     "execution_count": 7,
     "metadata": {},
     "output_type": "execute_result"
    }
   ],
   "source": [
    "import numpy as np\n",
    "A = np.matrix([[1,2],[1,2]])\n",
    "B = np.matrix([[3,4],[3,4]])\n",
    "np.dot(A,B)"
   ]
  }
 ],
 "metadata": {
  "kernelspec": {
   "display_name": "Python 3",
   "language": "python",
   "name": "python3"
  },
  "language_info": {
   "codemirror_mode": {
    "name": "ipython",
    "version": 3
   },
   "file_extension": ".py",
   "mimetype": "text/x-python",
   "name": "python",
   "nbconvert_exporter": "python",
   "pygments_lexer": "ipython3",
   "version": "3.4.4"
  }
 },
 "nbformat": 4,
 "nbformat_minor": 0
}
