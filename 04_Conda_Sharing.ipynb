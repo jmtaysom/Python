{
 "cells": [
  {
   "cell_type": "markdown",
   "metadata": {},
   "source": [
    "<img src='img/anaconda-logo.png' align='left' style=\"padding:10px\">\n",
    "<br>\n",
    "*Copyright Continuum 2012-2016 All Rights Reserved.*"
   ]
  },
  {
   "cell_type": "markdown",
   "metadata": {},
   "source": [
    "# Conda: Sharing Environments and Packages"
   ]
  },
  {
   "cell_type": "markdown",
   "metadata": {},
   "source": [
    "## Table of Contents\n",
    "* [Conda: Sharing Environments and Packages](#Conda:-Sharing-Environments-and-Packages)\n",
    "\t* [Recap and Preview](#Recap-and-Preview)\n",
    "\t* [Sharing Environments](#Sharing-Environments)\n",
    "\t\t* [Export an environment](#Export-an-environment)\n",
    "\t\t* [Recreate an environment](#Recreate-an-environment)\n",
    "\t\t* [Reproducibility](#Reproducibility)\n",
    "\t* [Packages for Sharing Software](#Packages-for-Sharing-Software)\n",
    "\t* [Sharing Packages as Files](#Sharing-Packages-as-Files)\n",
    "\t* [Sharing Packages via Channels](#Sharing-Packages-via-Channels)\n",
    "\t\t* [Sharing via Anaconda.org or Anaconda Repository](#Sharing-via-Anaconda.org-or-Anaconda-Repository)\n",
    "\t\t* [Sharing with Other Channels](#Sharing-with-Other-Channels)\n",
    "\t* [Recap](#Recap)\n"
   ]
  },
  {
   "cell_type": "markdown",
   "metadata": {},
   "source": [
    "## Recap and Preview"
   ]
  },
  {
   "cell_type": "markdown",
   "metadata": {},
   "source": [
    "In the last lesson we saw...\n",
    "\n",
    "* Exploring conda command help\n",
    "* Inspecting conda environments\n",
    "* Searching and listing packages\n",
    "* Creation and Removal of environments\n",
    "* Installing, updating, and removing packages\n",
    "* Activating and Switching environments\n",
    "* Pitfalls with activation and the system PATH\n",
    "\n",
    "In this lesson, we'll see more details on using conda, including...\n",
    "\n",
    "* Sharing and reproducing environments\n",
    "* Creating and sharing packages"
   ]
  },
  {
   "cell_type": "markdown",
   "metadata": {},
   "source": [
    "## Sharing Environments"
   ]
  },
  {
   "cell_type": "markdown",
   "metadata": {},
   "source": [
    "### Export an environment"
   ]
  },
  {
   "cell_type": "markdown",
   "metadata": {},
   "source": [
    "It is possible to export a \"snapshot\" of your conda environment:\n",
    "\n",
    "```bash\n",
    "conda env export > austin.yml\n",
    "```"
   ]
  },
  {
   "cell_type": "markdown",
   "metadata": {},
   "source": [
    "This file is called a \"conda environment file\". \n",
    "\n",
    "It contains plain text file formatted as YAML, a file specification designed to be both human-readable and easily mapped to data types common to most high-level languages."
   ]
  },
  {
   "cell_type": "markdown",
   "metadata": {},
   "source": [
    "### Recreate an environment"
   ]
  },
  {
   "cell_type": "markdown",
   "metadata": {},
   "source": [
    "The advantage of such an exported file is that if shared with a collaborator, it allows them to exactly reproduce your environment on their system:\n",
    "\n",
    "```bash\n",
    "conda create -f austin.yml\n",
    "```"
   ]
  },
  {
   "cell_type": "markdown",
   "metadata": {},
   "source": [
    "### Reproducibility"
   ]
  },
  {
   "cell_type": "markdown",
   "metadata": {},
   "source": [
    "In this way, you can record precisely what software packages and versions were used to test a given collection of source code, while also saving the information in a form that makes it trivial to reproduce that exact environment."
   ]
  },
  {
   "cell_type": "markdown",
   "metadata": {},
   "source": [
    "## Packages for Sharing Software"
   ]
  },
  {
   "cell_type": "markdown",
   "metadata": {},
   "source": [
    "The conda and related tools enable you to share and distribute your software to many people on Linux, Mac, and Windows. The primary tool for that sharing is the conda package which provides a container for your executable programs so as to allow conda to distribute many different software packages and their dependencies in a consistent way.\n",
    "\n",
    "The full details of building conda packages are beyond the scope of this lesson, however some discussion of the related tools is very useful to demonstrating that conda is all about sharing.\n",
    "\n",
    "The conda ecosystem includes a tool called `conda-build` that comes as part of every Anaconda and Miniconda install. To install it into an environment, simple use `conda install` as with any other package:\n",
    "\n",
    "```bash\n",
    "conda install conda-build\n",
    "```"
   ]
  },
  {
   "cell_type": "markdown",
   "metadata": {},
   "source": [
    "This tool allows you to build your own conda packages, for example:\n",
    "\n",
    "```bash\n",
    "conda build my_pkg\n",
    "```"
   ]
  },
  {
   "cell_type": "markdown",
   "metadata": {},
   "source": [
    "The input to this is process is something called a `conda recipe`, which in simplest terms is just a directory of files:\n",
    "\n",
    "```bash\n",
    "my_pkg\n",
    "   meta.yaml\n",
    "   build.sh\n",
    "   bld.bat\n",
    "```"
   ]
  },
  {
   "cell_type": "markdown",
   "metadata": {},
   "source": [
    "The output from this process is a compressed file archive with a name such as:\n",
    "\n",
    "```bash\n",
    "my_pkg-0.0.1-py35_0.tar.bz2\n",
    "```"
   ]
  },
  {
   "cell_type": "markdown",
   "metadata": {},
   "source": [
    "## Sharing Packages as Files"
   ]
  },
  {
   "cell_type": "markdown",
   "metadata": {},
   "source": [
    "Once built, this package file can be shared just as any other file, by any number of distribution methods.\n",
    "\n",
    "For example, you could send this file to a colleague, and once received, they could then install your package into their conda environment as follows:\n",
    "\n",
    "```bash\n",
    "conda install -n austin my_pkg-0.0.1-py35_0.tar.bz2\n",
    "```"
   ]
  },
  {
   "cell_type": "markdown",
   "metadata": {},
   "source": [
    "This package contains **executable** programs and everything needed to run them, so there is no need for your colleague to install and maintain the same build tools you used to create the package itself.\n",
    "\n",
    "This is the basis for the more common means of distributing conda packages: channels."
   ]
  },
  {
   "cell_type": "markdown",
   "metadata": {},
   "source": [
    "## Sharing Packages via Channels"
   ]
  },
  {
   "cell_type": "markdown",
   "metadata": {},
   "source": [
    "Conda packages are usually shared by distributing them via \"conda channels\" rather than by email.\n",
    "\n",
    "For example, if you installed Miniconda and then wanted to install NumPy, you would run the command \n",
    "\n",
    "```bash\n",
    "conda install numpy\n",
    "```"
   ]
  },
  {
   "cell_type": "markdown",
   "metadata": {},
   "source": [
    "This command when executed would by default reach out to a host named `repo.continuum.io` hosted by Continuum Analytics and look for a conda package \"channel\" on that host called `default`.\n",
    "\n",
    "This \"channel\" is simply a file path on the host from which conda may download the numpy package (another file.tar.bz2) and install it into your local conda environment.\n",
    "\n",
    "Channels are the path that conda takes to look for packages, and the easiest way to use and manage custom channels is to use a private or public repository on `Anaconda.org`"
   ]
  },
  {
   "cell_type": "markdown",
   "metadata": {},
   "source": [
    "### Sharing via Anaconda.org or Anaconda Repository"
   ]
  },
  {
   "cell_type": "markdown",
   "metadata": {},
   "source": [
    "This is very common way of sharing conda packages with the community of conda users. It first requires creating a account on `anaconda.org`.\n",
    "\n",
    "* uploading to anaconda.org personal account\n",
    "* installing from anaconda.org personal account\n",
    "* how your distant collaborators can also install from anaconda.org\n",
    "\n",
    "The steps are as follows:\n",
    "\n",
    "* `conda install anaconda-client`\n",
    "* `anaconda login`\n",
    "* `conda config --set anaconda_upload yes`\n",
    "* `anaconda upload my_pkg-0.0.1-py27_0.tar.bz2`"
   ]
  },
  {
   "cell_type": "markdown",
   "metadata": {},
   "source": [
    "### Sharing with Other Channels"
   ]
  },
  {
   "cell_type": "markdown",
   "metadata": {},
   "source": [
    "* default channel\n",
    "* example channels\n",
    "* example install from a channel other than default"
   ]
  },
  {
   "cell_type": "markdown",
   "metadata": {},
   "source": [
    "```bash\n",
    "conda config --add channels http://anaconda.org/<user-name>\n",
    "```"
   ]
  },
  {
   "cell_type": "markdown",
   "metadata": {},
   "source": [
    "```bash\n",
    "conda config --add channels http://<anaconda-repository-host>/<user-name>\n",
    "```"
   ]
  },
  {
   "cell_type": "markdown",
   "metadata": {},
   "source": [
    "## Recap"
   ]
  },
  {
   "cell_type": "markdown",
   "metadata": {},
   "source": [
    "In this lesson we saw ...\n",
    "\n",
    "* Distinction between conda, Anaconda, and Miniconda\n",
    "* Sharing and reproducing environments\n",
    "* Creating and sharing packages"
   ]
  },
  {
   "cell_type": "markdown",
   "metadata": {},
   "source": [
    "---\n",
    "*Copyright Continuum 2012-2016 All Rights Reserved.*"
   ]
  }
 ],
 "metadata": {
  "anaconda-cloud": {},
  "kernelspec": {
   "display_name": "Python [Root]",
   "language": "python",
   "name": "Python [Root]"
  },
  "language_info": {
   "codemirror_mode": {
    "name": "ipython",
    "version": 3
   },
   "file_extension": ".py",
   "mimetype": "text/x-python",
   "name": "python",
   "nbconvert_exporter": "python",
   "pygments_lexer": "ipython3",
   "version": "3.5.1"
  }
 },
 "nbformat": 4,
 "nbformat_minor": 0
}
